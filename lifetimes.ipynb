{
 "cells": [
  {
   "cell_type": "code",
   "execution_count": 15,
   "id": "3397bd3c",
   "metadata": {},
   "outputs": [],
   "source": [
    "import pandas as pd"
   ]
  },
  {
   "cell_type": "code",
   "execution_count": 16,
   "id": "31b1bd65",
   "metadata": {},
   "outputs": [],
   "source": [
    "file_path = 'csv/Online Retail.xlsx'"
   ]
  },
  {
   "cell_type": "code",
   "execution_count": 39,
   "id": "d2a7e33f",
   "metadata": {},
   "outputs": [],
   "source": [
    "df = pd.read_excel(file_path, parse_dates=['InvoiceDate'])"
   ]
  },
  {
   "cell_type": "code",
   "execution_count": 18,
   "id": "8772c7d4",
   "metadata": {},
   "outputs": [
    {
     "data": {
      "text/html": [
       "<div>\n",
       "<style scoped>\n",
       "    .dataframe tbody tr th:only-of-type {\n",
       "        vertical-align: middle;\n",
       "    }\n",
       "\n",
       "    .dataframe tbody tr th {\n",
       "        vertical-align: top;\n",
       "    }\n",
       "\n",
       "    .dataframe thead th {\n",
       "        text-align: right;\n",
       "    }\n",
       "</style>\n",
       "<table border=\"1\" class=\"dataframe\">\n",
       "  <thead>\n",
       "    <tr style=\"text-align: right;\">\n",
       "      <th></th>\n",
       "      <th>InvoiceNo</th>\n",
       "      <th>StockCode</th>\n",
       "      <th>Description</th>\n",
       "      <th>Quantity</th>\n",
       "      <th>InvoiceDate</th>\n",
       "      <th>UnitPrice</th>\n",
       "      <th>CustomerID</th>\n",
       "      <th>Country</th>\n",
       "    </tr>\n",
       "  </thead>\n",
       "  <tbody>\n",
       "    <tr>\n",
       "      <th>0</th>\n",
       "      <td>536365</td>\n",
       "      <td>85123A</td>\n",
       "      <td>WHITE HANGING HEART T-LIGHT HOLDER</td>\n",
       "      <td>6</td>\n",
       "      <td>2010-12-01 08:26:00</td>\n",
       "      <td>2.55</td>\n",
       "      <td>17850.0</td>\n",
       "      <td>United Kingdom</td>\n",
       "    </tr>\n",
       "    <tr>\n",
       "      <th>1</th>\n",
       "      <td>536365</td>\n",
       "      <td>71053</td>\n",
       "      <td>WHITE METAL LANTERN</td>\n",
       "      <td>6</td>\n",
       "      <td>2010-12-01 08:26:00</td>\n",
       "      <td>3.39</td>\n",
       "      <td>17850.0</td>\n",
       "      <td>United Kingdom</td>\n",
       "    </tr>\n",
       "    <tr>\n",
       "      <th>2</th>\n",
       "      <td>536365</td>\n",
       "      <td>84406B</td>\n",
       "      <td>CREAM CUPID HEARTS COAT HANGER</td>\n",
       "      <td>8</td>\n",
       "      <td>2010-12-01 08:26:00</td>\n",
       "      <td>2.75</td>\n",
       "      <td>17850.0</td>\n",
       "      <td>United Kingdom</td>\n",
       "    </tr>\n",
       "    <tr>\n",
       "      <th>3</th>\n",
       "      <td>536365</td>\n",
       "      <td>84029G</td>\n",
       "      <td>KNITTED UNION FLAG HOT WATER BOTTLE</td>\n",
       "      <td>6</td>\n",
       "      <td>2010-12-01 08:26:00</td>\n",
       "      <td>3.39</td>\n",
       "      <td>17850.0</td>\n",
       "      <td>United Kingdom</td>\n",
       "    </tr>\n",
       "    <tr>\n",
       "      <th>4</th>\n",
       "      <td>536365</td>\n",
       "      <td>84029E</td>\n",
       "      <td>RED WOOLLY HOTTIE WHITE HEART.</td>\n",
       "      <td>6</td>\n",
       "      <td>2010-12-01 08:26:00</td>\n",
       "      <td>3.39</td>\n",
       "      <td>17850.0</td>\n",
       "      <td>United Kingdom</td>\n",
       "    </tr>\n",
       "  </tbody>\n",
       "</table>\n",
       "</div>"
      ],
      "text/plain": [
       "  InvoiceNo StockCode                          Description  Quantity  \\\n",
       "0    536365    85123A   WHITE HANGING HEART T-LIGHT HOLDER         6   \n",
       "1    536365     71053                  WHITE METAL LANTERN         6   \n",
       "2    536365    84406B       CREAM CUPID HEARTS COAT HANGER         8   \n",
       "3    536365    84029G  KNITTED UNION FLAG HOT WATER BOTTLE         6   \n",
       "4    536365    84029E       RED WOOLLY HOTTIE WHITE HEART.         6   \n",
       "\n",
       "          InvoiceDate  UnitPrice  CustomerID         Country  \n",
       "0 2010-12-01 08:26:00       2.55     17850.0  United Kingdom  \n",
       "1 2010-12-01 08:26:00       3.39     17850.0  United Kingdom  \n",
       "2 2010-12-01 08:26:00       2.75     17850.0  United Kingdom  \n",
       "3 2010-12-01 08:26:00       3.39     17850.0  United Kingdom  \n",
       "4 2010-12-01 08:26:00       3.39     17850.0  United Kingdom  "
      ]
     },
     "execution_count": 18,
     "metadata": {},
     "output_type": "execute_result"
    }
   ],
   "source": [
    "df.head()"
   ]
  },
  {
   "cell_type": "code",
   "execution_count": 42,
   "id": "4c0b540b",
   "metadata": {},
   "outputs": [],
   "source": [
    "df = df.dropna(subset=['CustomerID'])\n",
    "df = df[df['Quantity'] > 0]\n",
    "\n",
    "df['Revenue'] = df['Quantity'] * df['UnitPrice']"
   ]
  },
  {
   "cell_type": "code",
   "execution_count": null,
   "id": "58f78c93",
   "metadata": {},
   "outputs": [
    {
     "data": {
      "text/html": [
       "<div>\n",
       "<style scoped>\n",
       "    .dataframe tbody tr th:only-of-type {\n",
       "        vertical-align: middle;\n",
       "    }\n",
       "\n",
       "    .dataframe tbody tr th {\n",
       "        vertical-align: top;\n",
       "    }\n",
       "\n",
       "    .dataframe thead th {\n",
       "        text-align: right;\n",
       "    }\n",
       "</style>\n",
       "<table border=\"1\" class=\"dataframe\">\n",
       "  <thead>\n",
       "    <tr style=\"text-align: right;\">\n",
       "      <th></th>\n",
       "      <th>CustomerID</th>\n",
       "      <th>Num_Purchases</th>\n",
       "      <th>Total_Revenue</th>\n",
       "      <th>FirstPurchaseDate</th>\n",
       "      <th>LastPurchaseDate</th>\n",
       "      <th>Months</th>\n",
       "      <th>Avg_Order_Value</th>\n",
       "      <th>Frequency_per_Month</th>\n",
       "      <th>CLV</th>\n",
       "    </tr>\n",
       "  </thead>\n",
       "  <tbody>\n",
       "    <tr>\n",
       "      <th>0</th>\n",
       "      <td>12346.0</td>\n",
       "      <td>1</td>\n",
       "      <td>77183.60</td>\n",
       "      <td>2011-01-18 10:01:00</td>\n",
       "      <td>2011-01-18 10:01:00</td>\n",
       "      <td>0.000000</td>\n",
       "      <td>77183.600000</td>\n",
       "      <td>1.000000</td>\n",
       "      <td>92620.320000</td>\n",
       "    </tr>\n",
       "    <tr>\n",
       "      <th>1</th>\n",
       "      <td>12347.0</td>\n",
       "      <td>7</td>\n",
       "      <td>4310.00</td>\n",
       "      <td>2010-12-07 14:57:00</td>\n",
       "      <td>2011-12-07 15:52:00</td>\n",
       "      <td>12.166667</td>\n",
       "      <td>615.714286</td>\n",
       "      <td>0.575342</td>\n",
       "      <td>425.095890</td>\n",
       "    </tr>\n",
       "    <tr>\n",
       "      <th>2</th>\n",
       "      <td>12348.0</td>\n",
       "      <td>4</td>\n",
       "      <td>1797.24</td>\n",
       "      <td>2010-12-16 19:09:00</td>\n",
       "      <td>2011-09-25 13:13:00</td>\n",
       "      <td>9.400000</td>\n",
       "      <td>449.310000</td>\n",
       "      <td>0.425532</td>\n",
       "      <td>229.434894</td>\n",
       "    </tr>\n",
       "    <tr>\n",
       "      <th>3</th>\n",
       "      <td>12349.0</td>\n",
       "      <td>1</td>\n",
       "      <td>1757.55</td>\n",
       "      <td>2011-11-21 09:51:00</td>\n",
       "      <td>2011-11-21 09:51:00</td>\n",
       "      <td>0.000000</td>\n",
       "      <td>1757.550000</td>\n",
       "      <td>1.000000</td>\n",
       "      <td>2109.060000</td>\n",
       "    </tr>\n",
       "    <tr>\n",
       "      <th>4</th>\n",
       "      <td>12350.0</td>\n",
       "      <td>1</td>\n",
       "      <td>334.40</td>\n",
       "      <td>2011-02-02 16:01:00</td>\n",
       "      <td>2011-02-02 16:01:00</td>\n",
       "      <td>0.000000</td>\n",
       "      <td>334.400000</td>\n",
       "      <td>1.000000</td>\n",
       "      <td>401.280000</td>\n",
       "    </tr>\n",
       "  </tbody>\n",
       "</table>\n",
       "</div>"
      ],
      "text/plain": [
       "   CustomerID  Num_Purchases  Total_Revenue   FirstPurchaseDate  \\\n",
       "0     12346.0              1       77183.60 2011-01-18 10:01:00   \n",
       "1     12347.0              7        4310.00 2010-12-07 14:57:00   \n",
       "2     12348.0              4        1797.24 2010-12-16 19:09:00   \n",
       "3     12349.0              1        1757.55 2011-11-21 09:51:00   \n",
       "4     12350.0              1         334.40 2011-02-02 16:01:00   \n",
       "\n",
       "     LastPurchaseDate     Months  Avg_Order_Value  Frequency_per_Month  \\\n",
       "0 2011-01-18 10:01:00   0.000000     77183.600000             1.000000   \n",
       "1 2011-12-07 15:52:00  12.166667       615.714286             0.575342   \n",
       "2 2011-09-25 13:13:00   9.400000       449.310000             0.425532   \n",
       "3 2011-11-21 09:51:00   0.000000      1757.550000             1.000000   \n",
       "4 2011-02-02 16:01:00   0.000000       334.400000             1.000000   \n",
       "\n",
       "            CLV  \n",
       "0  92620.320000  \n",
       "1    425.095890  \n",
       "2    229.434894  \n",
       "3   2109.060000  \n",
       "4    401.280000  "
      ]
     },
     "execution_count": 49,
     "metadata": {},
     "output_type": "execute_result"
    }
   ],
   "source": [
    "# 4. Agrupar por cliente\n",
    "customer = df.groupby('CustomerID').agg(\n",
    "    Num_Purchases=('InvoiceNo', 'nunique'),\n",
    "    Total_Revenue=('Revenue', 'sum'),\n",
    "    FirstPurchaseDate=('InvoiceDate', 'min'),\n",
    "    LastPurchaseDate=('InvoiceDate', 'max')\n",
    ").reset_index()\n",
    "\n",
    "avg_lifespan = 12\n",
    "margin = 0.1\n",
    "\n",
    "customer['Months'] = (customer['LastPurchaseDate'] - customer['FirstPurchaseDate'] ).dt.days / 30\n",
    "customer['Avg_Order_Value'] = customer['Total_Revenue'] / customer['Num_Purchases']\n",
    "customer['Frequency_per_Month'] = customer['Num_Purchases'] / customer['Months'].replace(0, 1)\n",
    "customer['CLV'] = customer['Avg_Order_Value'] * customer['Frequency_per_Month'] * avg_lifespan * margin\n",
    "\n",
    "\n",
    "customer.head()"
   ]
  },
  {
   "cell_type": "code",
   "execution_count": 20,
   "id": "45211546",
   "metadata": {},
   "outputs": [],
   "source": [
    "from lifetimes import BetaGeoFitter, GammaGammaFitter"
   ]
  },
  {
   "cell_type": "code",
   "execution_count": null,
   "id": "1eb6e2b0",
   "metadata": {},
   "outputs": [],
   "source": [
    "# Supondo que seu dataframe 'df' já está limpo e contém:\n",
    "# CustomerID, InvoiceNo, InvoiceDate, Quantity, UnitPrice\n",
    "# e a coluna Revenue (Quantity * UnitPrice)\n",
    "\n",
    "df['InvoiceDate'] = pd.to_datetime(df['InvoiceDate'])\n",
    "df = df.dropna(subset=['CustomerID'])\n",
    "df = df[df['Quantity'] > 0]\n",
    "\n",
    "# Cria coluna de receita\n",
    "df['Revenue'] = df['Quantity'] * df['UnitPrice']\n",
    "\n",
    "# Data de referência (última compra)\n",
    "max_date = df['InvoiceDate'].max()\n",
    "\n",
    "# Agrupamento no formato que o lifetimes exige\n",
    "summary = df.groupby('CustomerID').agg(\n",
    "    frequency=('InvoiceNo', 'nunique'),\n",
    "    recency=('InvoiceDate', lambda x: (x.max() - x.min()).days),\n",
    "    T=('InvoiceDate', lambda x: (max_date - x.min()).days),\n",
    "    monetary_value=('Revenue', 'mean')\n",
    ").reset_index()\n",
    "\n",
    "# lifetimes exige frequency > 1 e monetary_value > 0\n",
    "summary = summary[(summary['frequency'] > 1) & (summary['monetary_value'] > 0)]\n"
   ]
  },
  {
   "cell_type": "code",
   "execution_count": 22,
   "id": "f60d9050",
   "metadata": {},
   "outputs": [
    {
     "data": {
      "text/plain": [
       "<lifetimes.BetaGeoFitter: fitted with 2845 subjects, a: 0.11, alpha: 79.08, b: 2.46, r: 2.17>"
      ]
     },
     "execution_count": 22,
     "metadata": {},
     "output_type": "execute_result"
    }
   ],
   "source": [
    "from lifetimes import BetaGeoFitter\n",
    "\n",
    "bgf = BetaGeoFitter(penalizer_coef=0.001)\n",
    "bgf.fit(summary['frequency'], summary['recency'], summary['T'])\n"
   ]
  },
  {
   "cell_type": "code",
   "execution_count": null,
   "id": "b31d9d6f",
   "metadata": {},
   "outputs": [],
   "source": [
    "summary['expected_purchases_6m'] = bgf.conditional_expected_number_of_purchases_up_to_time(\n",
    "    180,\n",
    "    summary['frequency'],\n",
    "    summary['recency'],\n",
    "    summary['T']\n",
    ")"
   ]
  },
  {
   "cell_type": "code",
   "execution_count": 24,
   "id": "9b222c8e",
   "metadata": {},
   "outputs": [
    {
     "data": {
      "text/plain": [
       "<lifetimes.GammaGammaFitter: fitted with 2845 subjects, p: 5.01, q: 1.74, v: 4.85>"
      ]
     },
     "execution_count": 24,
     "metadata": {},
     "output_type": "execute_result"
    }
   ],
   "source": [
    "ggf = GammaGammaFitter(penalizer_coef=0.001)\n",
    "ggf.fit(summary['frequency'], summary['monetary_value'])\n"
   ]
  },
  {
   "cell_type": "code",
   "execution_count": 25,
   "id": "ee289887",
   "metadata": {},
   "outputs": [],
   "source": [
    "summary['expected_avg_value'] = ggf.conditional_expected_average_profit(\n",
    "    summary['frequency'],\n",
    "    summary['monetary_value']\n",
    ")"
   ]
  },
  {
   "cell_type": "code",
   "execution_count": 26,
   "id": "d12c18ef",
   "metadata": {},
   "outputs": [],
   "source": [
    "summary['clv_6m'] = ggf.customer_lifetime_value(\n",
    "    bgf,\n",
    "    summary['frequency'],\n",
    "    summary['recency'],\n",
    "    summary['T'],\n",
    "    summary['monetary_value'],\n",
    "    time=6,          # horizonte em meses\n",
    "    discount_rate=0.01\n",
    ")\n"
   ]
  },
  {
   "cell_type": "code",
   "execution_count": 27,
   "id": "169fb77b",
   "metadata": {},
   "outputs": [
    {
     "data": {
      "text/html": [
       "<div>\n",
       "<style scoped>\n",
       "    .dataframe tbody tr th:only-of-type {\n",
       "        vertical-align: middle;\n",
       "    }\n",
       "\n",
       "    .dataframe tbody tr th {\n",
       "        vertical-align: top;\n",
       "    }\n",
       "\n",
       "    .dataframe thead th {\n",
       "        text-align: right;\n",
       "    }\n",
       "</style>\n",
       "<table border=\"1\" class=\"dataframe\">\n",
       "  <thead>\n",
       "    <tr style=\"text-align: right;\">\n",
       "      <th></th>\n",
       "      <th>CustomerID</th>\n",
       "      <th>CLV</th>\n",
       "      <th>clv_6m</th>\n",
       "    </tr>\n",
       "  </thead>\n",
       "  <tbody>\n",
       "    <tr>\n",
       "      <th>0</th>\n",
       "      <td>12346.0</td>\n",
       "      <td>92620.320000</td>\n",
       "      <td>NaN</td>\n",
       "    </tr>\n",
       "    <tr>\n",
       "      <th>1</th>\n",
       "      <td>12347.0</td>\n",
       "      <td>425.095890</td>\n",
       "      <td>82.598432</td>\n",
       "    </tr>\n",
       "    <tr>\n",
       "      <th>2</th>\n",
       "      <td>12348.0</td>\n",
       "      <td>229.434894</td>\n",
       "      <td>128.781830</td>\n",
       "    </tr>\n",
       "    <tr>\n",
       "      <th>3</th>\n",
       "      <td>12349.0</td>\n",
       "      <td>2109.060000</td>\n",
       "      <td>NaN</td>\n",
       "    </tr>\n",
       "    <tr>\n",
       "      <th>4</th>\n",
       "      <td>12350.0</td>\n",
       "      <td>401.280000</td>\n",
       "      <td>NaN</td>\n",
       "    </tr>\n",
       "  </tbody>\n",
       "</table>\n",
       "</div>"
      ],
      "text/plain": [
       "   CustomerID           CLV      clv_6m\n",
       "0     12346.0  92620.320000         NaN\n",
       "1     12347.0    425.095890   82.598432\n",
       "2     12348.0    229.434894  128.781830\n",
       "3     12349.0   2109.060000         NaN\n",
       "4     12350.0    401.280000         NaN"
      ]
     },
     "execution_count": 27,
     "metadata": {},
     "output_type": "execute_result"
    }
   ],
   "source": [
    "customer = customer.merge(\n",
    "    summary[['CustomerID', 'clv_6m']],\n",
    "    on='CustomerID',\n",
    "    how='left'\n",
    ")\n",
    "\n",
    "customer[['CustomerID', 'CLV', 'clv_6m']].head()\n"
   ]
  },
  {
   "cell_type": "code",
   "execution_count": 30,
   "id": "a08e183e",
   "metadata": {},
   "outputs": [
    {
     "name": "stderr",
     "output_type": "stream",
     "text": [
      "Matplotlib is building the font cache; this may take a moment.\n"
     ]
    },
    {
     "data": {
      "image/png": "[encoded data removed]",
      "text/plain": [
       "<Figure size 800x400 with 1 Axes>"
      ]
     },
     "metadata": {},
     "output_type": "display_data"
    }
   ],
   "source": [
    "import matplotlib.pyplot as plt\n",
    "\n",
    "plt.figure(figsize=(8,4))\n",
    "plt.hist(summary['clv_6m'], bins=50, color='skyblue', edgecolor='gray')\n",
    "plt.title('Distribuição do CLV Probabilístico (6 meses)')\n",
    "plt.xlabel('CLV estimado')\n",
    "plt.ylabel('Número de clientes')\n",
    "plt.show()\n"
   ]
  },
  {
   "cell_type": "code",
   "execution_count": 33,
   "id": "b64600d4",
   "metadata": {},
   "outputs": [
    {
     "data": {
      "text/html": [
       "<div>\n",
       "<style scoped>\n",
       "    .dataframe tbody tr th:only-of-type {\n",
       "        vertical-align: middle;\n",
       "    }\n",
       "\n",
       "    .dataframe tbody tr th {\n",
       "        vertical-align: top;\n",
       "    }\n",
       "\n",
       "    .dataframe thead th {\n",
       "        text-align: right;\n",
       "    }\n",
       "</style>\n",
       "<table border=\"1\" class=\"dataframe\">\n",
       "  <thead>\n",
       "    <tr style=\"text-align: right;\">\n",
       "      <th></th>\n",
       "      <th>Clients</th>\n",
       "      <th>frequency</th>\n",
       "      <th>monetary_value</th>\n",
       "      <th>expected_purchases_6m</th>\n",
       "      <th>clv_6m</th>\n",
       "    </tr>\n",
       "    <tr>\n",
       "      <th>CLV_segment</th>\n",
       "      <th></th>\n",
       "      <th></th>\n",
       "      <th></th>\n",
       "      <th></th>\n",
       "      <th></th>\n",
       "    </tr>\n",
       "  </thead>\n",
       "  <tbody>\n",
       "    <tr>\n",
       "      <th>Q1 - LOW</th>\n",
       "      <td>712</td>\n",
       "      <td>3.362360</td>\n",
       "      <td>12.328015</td>\n",
       "      <td>1.957959</td>\n",
       "      <td>17.807421</td>\n",
       "    </tr>\n",
       "    <tr>\n",
       "      <th>Q2 - MEDIUM</th>\n",
       "      <td>711</td>\n",
       "      <td>4.037975</td>\n",
       "      <td>17.383842</td>\n",
       "      <td>3.124682</td>\n",
       "      <td>43.141232</td>\n",
       "    </tr>\n",
       "    <tr>\n",
       "      <th>Q3 - HIGH</th>\n",
       "      <td>711</td>\n",
       "      <td>5.244726</td>\n",
       "      <td>21.097744</td>\n",
       "      <td>4.085430</td>\n",
       "      <td>74.252448</td>\n",
       "    </tr>\n",
       "    <tr>\n",
       "      <th>Q4 - TOP</th>\n",
       "      <td>711</td>\n",
       "      <td>11.319269</td>\n",
       "      <td>178.965116</td>\n",
       "      <td>6.654876</td>\n",
       "      <td>611.603600</td>\n",
       "    </tr>\n",
       "  </tbody>\n",
       "</table>\n",
       "</div>"
      ],
      "text/plain": [
       "             Clients  frequency  monetary_value  expected_purchases_6m  \\\n",
       "CLV_segment                                                              \n",
       "Q1 - LOW         712   3.362360       12.328015               1.957959   \n",
       "Q2 - MEDIUM      711   4.037975       17.383842               3.124682   \n",
       "Q3 - HIGH        711   5.244726       21.097744               4.085430   \n",
       "Q4 - TOP         711  11.319269      178.965116               6.654876   \n",
       "\n",
       "                 clv_6m  \n",
       "CLV_segment              \n",
       "Q1 - LOW      17.807421  \n",
       "Q2 - MEDIUM   43.141232  \n",
       "Q3 - HIGH     74.252448  \n",
       "Q4 - TOP     611.603600  "
      ]
     },
     "execution_count": 33,
     "metadata": {},
     "output_type": "execute_result"
    }
   ],
   "source": [
    "# Cria 4 segmentos (Q1 = menor CLV, Q4 = maior CLV)\n",
    "summary['CLV_segment'] = pd.qcut(summary['clv_6m'], 4, labels=['Q1 - LOW', 'Q2 - MEDIUM', 'Q3 - HIGH', 'Q4 - TOP'])\n",
    "\n",
    "# Resumo por segmento\n",
    "segments = summary.groupby('CLV_segment').agg({\n",
    "    'CustomerID': 'count',\n",
    "    'frequency': 'mean',\n",
    "    'monetary_value': 'mean',\n",
    "    'expected_purchases_6m': 'mean',\n",
    "    'clv_6m': 'mean'\n",
    "}).rename(columns={'CustomerID': 'Clients'})\n",
    "\n",
    "segments = segments.sort_index()\n",
    "segments\n"
   ]
  }
 ],
 "metadata": {
  "kernelspec": {
   "display_name": "3.11.9",
   "language": "python",
   "name": "python3"
  },
  "language_info": {
   "codemirror_mode": {
    "name": "ipython",
    "version": 3
   },
   "file_extension": ".py",
   "mimetype": "text/x-python",
   "name": "python",
   "nbconvert_exporter": "python",
   "pygments_lexer": "ipython3",
   "version": "3.11.9"
  }
 },
 "nbformat": 4,
 "nbformat_minor": 5
}
