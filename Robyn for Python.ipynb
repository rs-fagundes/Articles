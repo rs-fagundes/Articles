{
 "cells": [
  {
   "cell_type": "code",
   "execution_count": 2,
   "id": "294f15d7",
   "metadata": {},
   "outputs": [
    {
     "name": "stderr",
     "output_type": "stream",
     "text": [
      "2025-10-26 21:35:54,882 - robyn - INFO - Logging is set up to console only.\n"
     ]
    },
    {
     "ename": "ImportError",
     "evalue": "cannot import name 'Robyn' from 'robyn' (/Users/rafaelfagundes/Documents/Articles/.venv/lib/python3.9/site-packages/robyn/__init__.py)",
     "output_type": "error",
     "traceback": [
      "\u001b[0;31m---------------------------------------------------------------------------\u001b[0m",
      "\u001b[0;31mImportError\u001b[0m                               Traceback (most recent call last)",
      "Cell \u001b[0;32mIn[2], line 4\u001b[0m\n\u001b[1;32m      1\u001b[0m \u001b[38;5;66;03m# Exemplo simples de Robyn em Python\u001b[39;00m\n\u001b[1;32m      2\u001b[0m \u001b[38;5;66;03m# Fonte: versão adaptada do Meta Robyn (https://github.com/facebookexperimental/Robyn)\u001b[39;00m\n\u001b[0;32m----> 4\u001b[0m \u001b[38;5;28;01mfrom\u001b[39;00m\u001b[38;5;250m \u001b[39m\u001b[38;5;21;01mrobyn\u001b[39;00m\u001b[38;5;250m \u001b[39m\u001b[38;5;28;01mimport\u001b[39;00m Robyn\n\u001b[1;32m      5\u001b[0m \u001b[38;5;28;01mimport\u001b[39;00m\u001b[38;5;250m \u001b[39m\u001b[38;5;21;01mpandas\u001b[39;00m\u001b[38;5;250m \u001b[39m\u001b[38;5;28;01mas\u001b[39;00m\u001b[38;5;250m \u001b[39m\u001b[38;5;21;01mpd\u001b[39;00m\n\u001b[1;32m      7\u001b[0m \u001b[38;5;66;03m# 1. Carregar dataset exemplo\u001b[39;00m\n\u001b[1;32m      8\u001b[0m \u001b[38;5;66;03m# (aqui usamos dados simulados, mas normalmente é o teu spend e KPIs semanais)\u001b[39;00m\n",
      "\u001b[0;31mImportError\u001b[0m: cannot import name 'Robyn' from 'robyn' (/Users/rafaelfagundes/Documents/Articles/.venv/lib/python3.9/site-packages/robyn/__init__.py)"
     ]
    }
   ],
   "source": [
    "# Exemplo simples de Robyn em Python\n",
    "# Fonte: versão adaptada do Meta Robyn (https://github.com/facebookexperimental/Robyn)\n",
    "\n",
    "from robyn import Robyn\n",
    "import pandas as pd\n",
    "\n",
    "# 1. Carregar dataset exemplo\n",
    "# (aqui usamos dados simulados, mas normalmente é o teu spend e KPIs semanais)\n",
    "data = pd.read_csv(\"https://raw.githubusercontent.com/facebookexperimental/Robyn/main/demo_data.csv\")\n",
    "\n",
    "# 2. Inicializar o modelo\n",
    "robyn = Robyn(\n",
    "    dt_input=data,\n",
    "    dep_var=\"revenue\",              # variável dependente (ex: receita)\n",
    "    dep_var_type=\"revenue\",         # tipo da variável dependente\n",
    "    date_var=\"DATE\",                # coluna de data\n",
    "    context_vars=[\"holiday\"],       # variáveis de contexto\n",
    "    paid_media_spends=[\"facebook_spend\", \"tv_spend\", \"search_spend\"],  # canais pagos\n",
    "    paid_media_vars=[\"facebook_impressions\", \"tv_grps\", \"search_clicks\"], # métricas de intensidade\n",
    "    organic_vars=[\"newsletter\", \"referrals\"],  # canais orgânicos\n",
    "    window_start=\"2020-01-01\",\n",
    "    window_end=\"2020-12-31\",\n",
    "    adstock=\"geometric\"             # tipo de decaimento\n",
    ")\n",
    "\n",
    "# 3. Rodar o modelo\n",
    "model_output = robyn.run()\n",
    "\n",
    "# 4. Ver resultados\n",
    "print(\"Model ID:\", model_output.model_id)\n",
    "print(\"Best model:\", model_output.best_model)\n",
    "print(model_output.summary)\n",
    "\n",
    "# 5. Plotar resultados (opcional)\n",
    "robyn.plot(model_output)\n"
   ]
  },
  {
   "cell_type": "code",
   "execution_count": null,
   "id": "ea54718f",
   "metadata": {},
   "outputs": [],
   "source": []
  }
 ],
 "metadata": {
  "kernelspec": {
   "display_name": ".venv",
   "language": "python",
   "name": "python3"
  },
  "language_info": {
   "codemirror_mode": {
    "name": "ipython",
    "version": 3
   },
   "file_extension": ".py",
   "mimetype": "text/x-python",
   "name": "python",
   "nbconvert_exporter": "python",
   "pygments_lexer": "ipython3",
   "version": "3.9.6"
  }
 },
 "nbformat": 4,
 "nbformat_minor": 5
}
